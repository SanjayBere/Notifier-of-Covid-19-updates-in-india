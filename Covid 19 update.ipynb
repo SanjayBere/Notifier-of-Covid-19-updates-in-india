{
 "cells": [
  {
   "cell_type": "code",
   "execution_count": 1,
   "metadata": {},
   "outputs": [],
   "source": [
    "from bs4 import BeautifulSoup as bs\n",
    "from win10toast import ToastNotifier\n",
    "from urllib.request import urlopen , Request"
   ]
  },
  {
   "cell_type": "code",
   "execution_count": 2,
   "metadata": {},
   "outputs": [],
   "source": [
    "header = {'User-Agent' : 'Mozilla'}\n",
    "req = Request(\"https://www.worldometers.info/coronavirus/country/india/\",headers=header)"
   ]
  },
  {
   "cell_type": "code",
   "execution_count": 3,
   "metadata": {},
   "outputs": [],
   "source": [
    "html = urlopen(req)"
   ]
  },
  {
   "cell_type": "code",
   "execution_count": 4,
   "metadata": {},
   "outputs": [],
   "source": [
    "#html.readlines()"
   ]
  },
  {
   "cell_type": "code",
   "execution_count": 5,
   "metadata": {},
   "outputs": [],
   "source": [
    "soup = bs(html)"
   ]
  },
  {
   "cell_type": "code",
   "execution_count": 6,
   "metadata": {},
   "outputs": [
    {
     "name": "stdout",
     "output_type": "stream",
     "text": [
      "879,466 \n"
     ]
    }
   ],
   "source": [
    "Total_cases = soup.find(\"div\",attrs={\"class\" : \"maincounter-number\"}).span.text\n",
    "print(Total_cases)"
   ]
  },
  {
   "cell_type": "code",
   "execution_count": 7,
   "metadata": {},
   "outputs": [
    {
     "name": "stdout",
     "output_type": "stream",
     "text": [
      "29,108\n"
     ]
    }
   ],
   "source": [
    "New_Cases = soup.find(\"li\" ,{\"class\":\"news_li\"}).strong.text.split()[0]\n",
    "print(New_Cases)"
   ]
  },
  {
   "cell_type": "code",
   "execution_count": 8,
   "metadata": {},
   "outputs": [
    {
     "name": "stdout",
     "output_type": "stream",
     "text": [
      "500\n"
     ]
    }
   ],
   "source": [
    "New_death = list(soup.find(\"li\",{\"class\" : \"news_li\"}).strong.next_siblings)[1].text.split()[0]\n",
    "print(New_death)"
   ]
  },
  {
   "cell_type": "code",
   "execution_count": 9,
   "metadata": {},
   "outputs": [
    {
     "data": {
      "text/plain": [
       "'Total Cases 879,466 \\nNew Cases 29,108\\nNew Death 500'"
      ]
     },
     "execution_count": 9,
     "metadata": {},
     "output_type": "execute_result"
    }
   ],
   "source": [
    "notifier = ToastNotifier()\n",
    "message  =\"Total Cases \" + Total_cases + \"\\nNew Cases \" + New_Cases + \"\\nNew Death \"+New_death\n",
    "message"
   ]
  },
  {
   "cell_type": "code",
   "execution_count": 13,
   "metadata": {},
   "outputs": [
    {
     "name": "stderr",
     "output_type": "stream",
     "text": [
      "ERROR:root:Some trouble with the icon (C:\\Users\\GCS\\AAIC python notebooks\\Projects\\Covid-19 Notifier Using Web Scrapping\\coronavirus.png): (0, 'LoadImage', 'No error message is available')\n"
     ]
    },
    {
     "data": {
      "text/plain": [
       "True"
      ]
     },
     "execution_count": 13,
     "metadata": {},
     "output_type": "execute_result"
    }
   ],
   "source": [
    "\n",
    "notifier.show_toast(title=\"COVID-19 Updates India\" , msg = message,duration=5,icon_path = \"coronavirus.png\")"
   ]
  },
  {
   "cell_type": "code",
   "execution_count": null,
   "metadata": {},
   "outputs": [],
   "source": []
  }
 ],
 "metadata": {
  "kernelspec": {
   "display_name": "Python 3",
   "language": "python",
   "name": "python3"
  },
  "language_info": {
   "codemirror_mode": {
    "name": "ipython",
    "version": 3
   },
   "file_extension": ".py",
   "mimetype": "text/x-python",
   "name": "python",
   "nbconvert_exporter": "python",
   "pygments_lexer": "ipython3",
   "version": "3.7.4"
  }
 },
 "nbformat": 4,
 "nbformat_minor": 2
}
